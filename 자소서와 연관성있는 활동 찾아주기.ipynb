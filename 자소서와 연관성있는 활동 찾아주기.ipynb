{
 "cells": [
  {
   "cell_type": "code",
   "execution_count": 1,
   "metadata": {},
   "outputs": [],
   "source": [
    "# olunteer work on resume \n",
    "\n",
    "input_text = \"\"\"Michael Johnson\n",
    "Las Vegas, Nevada • (123) ​456-7891\n",
    "m.johnson@email.com\n",
    "\n",
    "Summary\n",
    "A conscientious and skilled public servant with experience providing quality patient care.\n",
    "\n",
    "Skills\n",
    "Key nursing skills include: Advanced Cardiac Life Support systems • Acute Care • Case management • Advanced knowledge of medication administration • Compassionate • Critical thinker • Organized • Responsive\n",
    "\n",
    "Professional Experience\n",
    "Johnson Medical Center, Nurse Practitioner\n",
    "August 2010—Present\n",
    "\n",
    "Worked directly with patients to provide advanced services\n",
    "Handled multiple patient loads\n",
    "Assisted head nurse in organizing work schedules for nursing staff\n",
    "Doctors Without Borders, Volunteer\n",
    "June 2008—August 2009\n",
    "\n",
    "Volunteered to provide patient care in Malawi\n",
    "Helped treat infectious diseases\n",
    "Provided educational courses to local residents on disease prevention\n",
    "Education\n",
    "University of Michigan, Ann Arbor\n",
    "August 2007—May 2008\n",
    "M.S.N, Acute, Primary and Family Care Nursing, 4.0 GPA\n",
    "\n",
    "University of Michigan, Ann Arbor\n",
    "August 2003—May 2007\n",
    "B.S., Nursing, 3.75 GPA\n",
    "\n",
    "Volunteer Experience\n",
    "Big Brothers Big Sisters of America, Volunteer\n",
    "January 2004—January 2005\n",
    "Volunteered as a big brother to several participants\n",
    "Offered mentoring, comfort and care\"\"\""
   ]
  },
  {
   "cell_type": "markdown",
   "metadata": {},
   "source": [
    "## Activities\n",
    "봉사활동 내용을 리스트로 구분하여 입력하고, 입력한 자기소개서오 가장 유사한 내용을 추출해본다.\n"
   ]
  },
  {
   "cell_type": "code",
   "execution_count": 2,
   "metadata": {
    "scrolled": true
   },
   "outputs": [
    {
     "name": "stderr",
     "output_type": "stream",
     "text": [
      "[nltk_data] Downloading package punkt to\n",
      "[nltk_data]     /Users/kimkwangil/nltk_data...\n",
      "[nltk_data]   Package punkt is already up-to-date!\n",
      "[nltk_data] Downloading package vader_lexicon to\n",
      "[nltk_data]     /Users/kimkwangil/nltk_data...\n",
      "[nltk_data]   Package vader_lexicon is already up-to-date!\n",
      "[nltk_data] Downloading package averaged_perceptron_tagger to\n",
      "[nltk_data]     /Users/kimkwangil/nltk_data...\n",
      "[nltk_data]   Package averaged_perceptron_tagger is already up-to-\n",
      "[nltk_data]       date!\n"
     ]
    }
   ],
   "source": [
    "import numpy as np\n",
    "import gensim\n",
    "import nltk\n",
    "import re\n",
    "import matplotlib.pyplot as plt\n",
    "from sklearn.manifold import TSNE\n",
    "import seaborn as sns\n",
    "import pandas as pd\n",
    "from nltk.tokenize import sent_tokenize\n",
    "import multiprocessing\n",
    "import os\n",
    "from pathlib import Path\n",
    "import io\n",
    "from gensim.models import Phrases\n",
    "from textblob import TextBlob\n",
    "from nltk.tag import pos_tag\n",
    "from nltk.tokenize import word_tokenize\n",
    "from nltk.tokenize import RegexpTokenizer\n",
    "from collections import defaultdict\n",
    "\n",
    "import nltk\n",
    "nltk.download('punkt')\n",
    "nltk.download('vader_lexicon')\n",
    "nltk.download('averaged_perceptron_tagger')\n",
    "from nltk.sentiment.vader import SentimentIntensityAnalyzer \n",
    "import pandas as pd\n",
    "from pandas import DataFrame as df\n",
    "#from mpld3 import plugins, fig_to_html, save_html, fig_to_dict\n",
    "from tqdm import tqdm\n",
    "import numpy as np\n",
    "import json\n",
    "#from tensorflow.keras.preprocessing.text import text_to_word_sequence\n",
    "\n",
    "# synonym: 동의어\n",
    "# antonym: 반의어\n",
    "# hypernym: 상의어\n",
    "# hyponym: 하위어\n",
    "\n",
    "# 여기서는 synonym 만 추출하여 추가 분석에 반영함\n",
    "from nltk.corpus import wordnet as wn\n",
    "\n",
    "from nltk.corpus import stopwords\n",
    "from gensim import corpora, models, similarities"
   ]
  },
  {
   "cell_type": "markdown",
   "metadata": {},
   "source": [
    "# 봉사활동 리스트를 다음과 같이 문자로 정리한다.\n",
    "\n",
    "\n",
    "FRIENDLY VISITOR PROGRAM. BRING A SMILE TO A LONELY ELDER OR YOUNGER DISABLED PERSON'S LIFE. VISIT ONCE WEEKLY FOR 1-2 HOURS AND BRIGHTEN SOMEONE'S DAY. MAKE A NEW FRIEND AND FEEL GREAT ABOUT IT!\n",
    "MILEAGE REIMBURSEMENT IS AVAILABLE.THIS IS A VERY REWARDING OPPORTUNITY!\n",
    "\n",
    "\n",
    "Knowledge Management and Collaboration Analyst.About School Group.School Group (SG) is a start-up international non-profit developing a cutting-edge global e-learning platform that will allow students around the world to connect for peer-to-peer collaborative learning and skills development - improving the accessibility and quality of education, while transforming lives and impacting future success. We need talented people to help us make our vision a reality. So, if you believe in the power of education, international development and community service - and have the time, skills and know-how to match - we want you as a School Group volunteer.  \n",
    "Role Overview.School Group is looking for a Knowledge Management Analyst  that is engaged in the support of the K nowledge M anagement Policy, Planning Research and Metrics for knowledge management.    \n",
    "Essential Functions. Lead/contribute to the development and execution of the KM Governance Plan.  \n",
    "Develop a comprehensive mapping of KM information sources and knowledge, including processes.  \n",
    "Contribute to the development and ongoing maintenance of School Group’s knowledge management system(s).  \n",
    "Create an approach for guiding ongoing analyses needed to address observed KM gaps and for identifying opportunities for innovation, process, procedure and policymaking/adjustments.  \n",
    "Oversee capacity building and support for internal knowledge acquisition, management and sharing; ensure relevant communities of practice are developed and strengthened.  \n",
    "Support development of staff, consultants and key partners and on all aspects of knowledge management.  \n",
    "Every effort has been made to identify the essential functions of this position. However, this position description in no way states or implies that these are the only duties you may be required to perform. The omission of specific descriptions of duties does not exclude them from the position if the work is similar, related or can be considered essential to this position.  \n",
    "Key Relationships.Needs to work closely with all department leads and teams and to collaborate with Document Control Team and Change Management Team for all the new changes and process.\n",
    "Shall report to Lead, Quality.QualificationsBasic. A Bachelor's degree\n",
    "Knowledge of and experience with contemporary knowledge sharing platforms, including file sharing and collaboration platforms, that can serve multiple units within a decentralized organizational structure. Understanding of Knowledge Management principles and processes  \n",
    "Experience in use of Knowledge Management platforms like SharePoint   or Wiki\n",
    "Record of ability to mentor and support a team through process of becoming a more effective \"learning organization’.  \n",
    "Should know how to create Knowledge Management Processes from scratch and then imply them as per ISO 9001:2015 standpoint .\n",
    "Preferred. 7+ years’ experience in related field preferred.\n",
    "Program management experience\n",
    "Why volunteer with us?. We are a community of people from different parts of the world who share a common belief in improving education which will eventually reduce poverty and improve the quality of life and living conditions globally. Volunteering with us will enable you to build your resume and gain invaluable experience in a supportive environment.  \n",
    "In the USA, School Group is a Certifying Organization, offering the President’s Volunteer Service Award (PVSA) to eligible volunteers.  \n",
    "School Group will provide a letter of recommendation to all volunteers who are able to showcase outstanding performance for professional references.  \n",
    "Other information.This is a volunteer position. There will be no financial compensation. Our organization is 100% volunteer - run. We welcome volunteers located anywhere in the world, as long as they can connect reliably to the internet.  \n",
    "\n",
    "\n",
    "NightSparks - Find treasurers for a silent auction. Help us find treasures and sellable items for the silent and live auction. You can apply online to businesses, or go to the physical locations and ask for donations. For services or things that must be redeemed, such as restaurant gift certificates, they must be in Metro-Denver, Colorado Springs, or Loveland/Boulder areas.\n",
    "You will be joining a team that loves helping people with cancer.NightSparks Online is a fundraising event to support individuals with cancer. Funds raised provide free Reiki and Healing Touch sessions to help them find peace and healing. The auction will open on or about April 17, and will close with an online event on April 23, 2021. Be part of something good!\n",
    "LifeSpark provides Reiki and Healing Touch wellness therapies that promote peace and healing during and after cancer. We help people feel better while going through Cancer. In fact, nearly 80% of those receiving sessions in our program report that they feel significantly better physically and emotionally. 95% say that our therapies are valuable and they would refer others to us, and we have over 100 Reiki and Healing Touch volunteers.\n",
    "At LifeSpark, we believe that a calm mind and a comfortable body can transform the cancer experience. Every day our care providers give gentle Reiki and Healing Touch sessions to individuals with cancer and their caregivers. We feel that everyone should experience for themselves the transformational benefits our program provides.\n",
    "We provide sessions at three hospitals (UCHealth, Denver Health, and Memorial Hospital), 14 Elements Massage studios, and five churches from Longmont to Colorado Springs.\n",
    "\n",
    "\n",
    "Grant Writer.Are you an experienced sales person or proposal writer? We need you to assist with writing narrative, pulling together grant components, reviewing grants for flow and accuracy. Please Express Interest. *Important information *Volunteer time shifts are broken down into the following time frames: Monday Morning Monday Afternoon.\n",
    "    \n",
    "    \n",
    "    \n",
    "Social Media Coordinator. femLENS is looking for a social media coordinator (especially for Instagram) to plan daily posts, interact with our community and grow our following.\n",
    "Skills:Familiar with all social media platforms. Scheduling apps and analytics. Basic design skills for visual posts\n",
    "Should have: Good writing skills. Understanding of social justice issues and gender equality. Interest in photography\n"
   ]
  },
  {
   "cell_type": "code",
   "execution_count": 3,
   "metadata": {},
   "outputs": [],
   "source": [
    "def resume_volunt_activity_analysis(input_text):\n",
    "    \n",
    "    documents = [\"\"\"FRIENDLY VISITOR PROGRAM. BRING A SMILE TO A LONELY ELDER OR YOUNGER DISABLED PERSON'S LIFE. VISIT ONCE WEEKLY FOR 1-2 HOURS AND BRIGHTEN SOMEONE'S DAY. MAKE A NEW FRIEND AND FEEL GREAT ABOUT IT!\n",
    "MILEAGE REIMBURSEMENT IS AVAILABLE.THIS IS A VERY REWARDING OPPORTUNITY!\"\"\",\n",
    "                 \"\"\"Knowledge Management and Collaboration Analyst.About School Group.School Group (SG) is a start-up international non-profit developing a cutting-edge global e-learning platform that will allow students around the world to connect for peer-to-peer collaborative learning and skills development - improving the accessibility and quality of education, while transforming lives and impacting future success. We need talented people to help us make our vision a reality. So, if you believe in the power of education, international development and community service - and have the time, skills and know-how to match - we want you as a School Group volunteer.  \n",
    "Role Overview.School Group is looking for a Knowledge Management Analyst  that is engaged in the support of the K nowledge M anagement Policy, Planning Research and Metrics for knowledge management.    \n",
    "Essential Functions. Lead/contribute to the development and execution of the KM Governance Plan.  \n",
    "Develop a comprehensive mapping of KM information sources and knowledge, including processes.  \n",
    "Contribute to the development and ongoing maintenance of School Group’s knowledge management system(s).  \n",
    "Create an approach for guiding ongoing analyses needed to address observed KM gaps and for identifying opportunities for innovation, process, procedure and policymaking/adjustments.  \n",
    "Oversee capacity building and support for internal knowledge acquisition, management and sharing; ensure relevant communities of practice are developed and strengthened.  \n",
    "Support development of staff, consultants and key partners and on all aspects of knowledge management.  \n",
    "Every effort has been made to identify the essential functions of this position. However, this position description in no way states or implies that these are the only duties you may be required to perform. The omission of specific descriptions of duties does not exclude them from the position if the work is similar, related or can be considered essential to this position.  \n",
    "Key Relationships.Needs to work closely with all department leads and teams and to collaborate with Document Control Team and Change Management Team for all the new changes and process.\n",
    "Shall report to Lead, Quality.QualificationsBasic. A Bachelor's degree\n",
    "Knowledge of and experience with contemporary knowledge sharing platforms, including file sharing and collaboration platforms, that can serve multiple units within a decentralized organizational structure. Understanding of Knowledge Management principles and processes  \n",
    "Experience in use of Knowledge Management platforms like SharePoint   or Wiki\n",
    "Record of ability to mentor and support a team through process of becoming a more effective \"learning organization’.  \n",
    "Should know how to create Knowledge Management Processes from scratch and then imply them as per ISO 9001:2015 standpoint .\n",
    "Preferred. 7+ years’ experience in related field preferred.\n",
    "Program management experience\n",
    "Why volunteer with us?. We are a community of people from different parts of the world who share a common belief in improving education which will eventually reduce poverty and improve the quality of life and living conditions globally. Volunteering with us will enable you to build your resume and gain invaluable experience in a supportive environment.  \n",
    "In the USA, School Group is a Certifying Organization, offering the President’s Volunteer Service Award (PVSA) to eligible volunteers.  \n",
    "School Group will provide a letter of recommendation to all volunteers who are able to showcase outstanding performance for professional references.  \n",
    "Other information.This is a volunteer position. There will be no financial compensation. Our organization is 100% volunteer - run. We welcome volunteers located anywhere in the world, as long as they can connect reliably to the internet.  \n",
    "\"\"\",\n",
    "                 \"\"\"NightSparks - Find treasurers for a silent auction. Help us find treasures and sellable items for the silent and live auction. You can apply online to businesses, or go to the physical locations and ask for donations. For services or things that must be redeemed, such as restaurant gift certificates, they must be in Metro-Denver, Colorado Springs, or Loveland/Boulder areas.\n",
    "You will be joining a team that loves helping people with cancer.NightSparks Online is a fundraising event to support individuals with cancer. Funds raised provide free Reiki and Healing Touch sessions to help them find peace and healing. The auction will open on or about April 17, and will close with an online event on April 23, 2021. Be part of something good!\n",
    "LifeSpark provides Reiki and Healing Touch wellness therapies that promote peace and healing during and after cancer. We help people feel better while going through Cancer. In fact, nearly 80% of those receiving sessions in our program report that they feel significantly better physically and emotionally. 95% say that our therapies are valuable and they would refer others to us, and we have over 100 Reiki and Healing Touch volunteers.\n",
    "At LifeSpark, we believe that a calm mind and a comfortable body can transform the cancer experience. Every day our care providers give gentle Reiki and Healing Touch sessions to individuals with cancer and their caregivers. We feel that everyone should experience for themselves the transformational benefits our program provides.\n",
    "We provide sessions at three hospitals (UCHealth, Denver Health, and Memorial Hospital), 14 Elements Massage studios, and five churches from Longmont to Colorado Springs.\n",
    "\"\"\"''\n",
    "              \"\"\"Grant Writer.Are you an experienced sales person or proposal writer? We need you to assist with writing narrative, pulling together grant components, reviewing grants for flow and accuracy. Please Express Interest. *Important information *Volunteer time shifts are broken down into the following time frames: Monday Morning Monday Afternoon.\n",
    " \"\"\",\n",
    "                 \"\"\"Social Media Coordinator. femLENS is looking for a social media coordinator (especially for Instagram) to plan daily posts, interact with our community and grow our following.\n",
    "Skills:Familiar with all social media platforms. Scheduling apps and analytics. Basic design skills for visual posts\n",
    "Should have: Good writing skills. Understanding of social justice issues and gender equality. Interest in photography\n",
    "\"\"\"]\n",
    "                 \n",
    "\n",
    "  \n",
    "    # remove common words and tokenize them\n",
    "    stoplist = set('for a of the and to in'.split())\n",
    "\n",
    "    texts = [[word for word in document.lower().split() if word not in stoplist] for document in documents]\n",
    "\n",
    "    # remove words those appear only once\n",
    "    all_tokens = sum(texts, [])\n",
    "\n",
    "    tokens_once = set(word for word in set(all_tokens) if all_tokens.count(word) ==1)\n",
    "    texts = [[word for word in text if word not in tokens_once]\n",
    "            for text in texts]\n",
    "    dictionary = corpora.Dictionary(texts)\n",
    "\n",
    "    dictionary.save('deerwester.dict')  # save as binary file at the dictionary at local directory\n",
    "    dictionary.save_as_text('deerwester_text.dict')  # save as text file at the local directory\n",
    "\n",
    "\n",
    "\n",
    "    #input answer\n",
    "    text_input = input_text #문장입력....resume\n",
    "    #text_input = \"\"\"I inhale deeply and blow harder than I thought possible, pushing the tiny ember from its resting place on the candle out into the air. The room erupts around me, and 'Happy Birthday!' cheers echo through the halls. It's time to make a wish. In my mind, that new Limited Edition Deluxe Ben 10 watch will soon be mine. My parents and the aunties and uncles around me attempt to point me in a different direction. 'Wish that you get to go to the temple every day when you're older! Wish that you memorize all your Sanskrit texts before you turn 6! Wish that you can live in India after college!' My ears listen, but my mind tunes them out, as nothing could possibly compare to that toy watch! What I never realized on my third birthday is that those wishes quietly tell the story of how my family hopes my life will play out. In this version of my life, there wasn't much room for change, personal growth, or 'rocking the boat.' A vital aspect of my family's cultural background is their focus on accepting things as they are. Growing up, I was discouraged from questioning others or asking questions that didn't have definitive yes or no answers. If I innocently asked my grandma why she expected me to touch her feet, my dad would grab my hand in a sudden swoop, look me sternly in the eye, and tell me not to disrespect her like that again. At home, if I mentioned that I had tried eggs for breakfast at a friend's house, I'd be looked at like I had just committed a felony for eating what my parents considered meat. If I asked the priest at the temple why he had asked an Indian man and his white wife to leave, I'd be met with a condescending glare and told that I should also leave for asking such questions.In direct contrast, my curiosity was invited and encouraged at school. After an environmental science lesson, I stayed for a few minutes after class to ask my 4th-grade science teacher with wide eyes how it was possible that Niagara Falls doesn't run out of flowing water. Instead of scolding me for asking her a 'dumb question,' she smiled and explained the intricacy of the water cycle. Now, if a teacher mentions that we'll learn about why a certain proof or idea works only in a future class, I'll stay after to ask more or pour through an advanced textbook to try to understand it. While my perspective was widening at school, the receptiveness to raising complex questions at home was diminishing. After earning my driver's license, I registered as an organ donor. My small checkmark on a piece of paper led to an intense clash between my and my parents' moral platform. I wanted to ensure that I positively contributed to society, while my parents believed that organ donation was an unfamiliar and unnecessary cultural taboo. I would often ask for clarity or for reasons that supported their ideologies. Their response would usually entail feeling a deep, visceral sense that traditions must be followed exactly as taught, without objection. Told in one language to keep asking questions and in another to ask only the right ones, I chose exploring questions that don't have answers, rather than accepting answers that don't get questioned. When it comes to the maze of learning, even when I take a wrong turn and encounter roadblocks that are meant to stop me, I've learned to climb over them and keep moving forward. My curiosity strengthens with each hurdle and has expanded into a pure love of learning new things. I've become someone who seeks to understand things at a fundamental level and who finds excitement in taking on big questions that have yet to be solved. I'm no longer afraid to rock the boat. \"},{\"index\":1,\"personal_essay\":\"Ever since I first held a small foam Spiderman basketball in my tiny hands and watched my idol Kobe Bryant hit every three-pointer he attempted, I've wanted to understand and replicate his flawless jump shot. As my math education progressed in school, I began to realize I had the tools to create a perfect shot formula. After learning about variables for the first time in 5th grade Algebra, I began to treat each aspect of Kobe's jump shot as a different variable, each combination of variables resulting in a unique solution. While in 7th-grade geometry, I graphed the arc of his shot, and after learning about quadratic equations in 8th grade, I expressed his shot as a parabolic function that would ensure a swish when shooting from any spot. After calculus lessons in 10th and 11th grade, I was excited to finally solve for the perfect velocity and acceleration needed on my release. At Brown, I hope to explore this intellectual pursuit through a different lens. What if I could maximize the odds of making shots if I understood the science behind one's mental mindset and focus through CLPS 500: Perception and Action? Or use astrophysics to account for drag and gravitational force anywhere in the universe? Or use data science to break down the analytics of the NBA's best shooters? Through the Open Curriculum, I see myself not only becoming a more complete learner, but also a more complete thinker, applying a flexible mindset to any problem I encounter. Brown's Open Curriculum allows students to explore broadly while also diving deeply into their academic pursuits. Tell us about an academic interest (or interests) that excites you, and how you might use the Open Curriculum to pursue it. I've been playing the Mridangam since I was five years old. It's a simple instrument: A wood barrel covered on two ends by goatskin with leather straps surrounding the hull. This instrument serves as a connection between me and one of the most beautiful aspects of my culture: Carnatic music. As a young child, I'd be taken to the temple every weekend for three-hour-long Carnatic music concerts, where the most accomplished teenagers and young adults in our local Indian community would perform. I would watch in awe as the mridangists' hands moved gracefully, flowing across the goatskin as if they weren't making contact, while simultaneously producing sharp rhythmic patterns that never failed to fall on the beat. Hoping to be like these idols on the stage, I trained intensely with my teacher, a strict man who taught me that the simple drum I was playing had thousands of years of culture behind it. Building up from simple strokes, I realized that the finger speed I'd had been awestruck by wasn't some magical talent, it was instead a science perfected by repeated practice.\"\"\"\n",
    "\n",
    "    new_vec = dictionary.doc2bow(text_input.lower().split()) # return \"word-ID : Frequency of appearance\"\"\n",
    "    corpus = [dictionary.doc2bow(text) for text in texts]\n",
    "    corpora.MmCorpus.serialize('deerwester.mm', corpus) # save corpus at local directory\n",
    "    corpus = corpora.MmCorpus('deerwester.mm') # try to load the saved corpus from local\n",
    "    dictionary = corpora.Dictionary.load('deerwester.dict') # try to load saved dic.from local\n",
    "    tfidf = models.TfidfModel(corpus) # step 1 -- initialize a model\n",
    "    corpus_tfidf = tfidf[corpus]  # map corpus object into tfidf space\n",
    "    lsi = models.LsiModel(corpus_tfidf, id2word=dictionary, num_topics=2) # initialize LSI\n",
    "    corpus_lsi = lsi[corpus_tfidf] # create a double wrapper over the original corpus\n",
    "    topic = lsi.print_topics(2)\n",
    "    lsi.save('model.lsi')  # save output model at local directory\n",
    "    lsi = models.LsiModel.load('model.lsi') # try to load above saved model\n",
    "\n",
    "    doc = text_input\n",
    "\n",
    "    vec_bow = dictionary.doc2bow(doc.lower().split())  # put newly obtained document to existing dictionary object\n",
    "    vec_lsi = lsi[vec_bow] # convert new document (henceforth, call it \"query\") to LSI space\n",
    "    index = similarities.MatrixSimilarity(lsi[corpus]) # transform corpus to LSI space and indexize it\n",
    "    index.save('deerwester.index') # save index object at local directory\n",
    "    index = similarities.MatrixSimilarity.load('deerwester.index')\n",
    "    sims = index[vec_lsi] # calculate degree of similarity of the query to existing corpus\n",
    "\n",
    "    print(list(enumerate(sims))) # output (document_number , document similarity)\n",
    "\n",
    "    sims = sorted(enumerate(sims), key=lambda item: -item[1])  # sort output object as per similarity ( largest similarity document comes first )\n",
    "    print(sims) # 입력한 자소서(input_text)와 가장 유시도가 높은 순서대로 출력\n",
    "    \n",
    "    # result_sims = []\n",
    "    \n",
    "    quada_dic = {}\n",
    "    \n",
    "    for temp in sims : \n",
    "        \n",
    "        quada_dic[temp[0]] = round(float(temp[1]),3)\n",
    "        \n",
    "        # result_sims.append([temp[0],round(float(temp[1]),3)])\n",
    "\n",
    "    return quada_dic\n"
   ]
  },
  {
   "cell_type": "code",
   "execution_count": 4,
   "metadata": {},
   "outputs": [
    {
     "name": "stdout",
     "output_type": "stream",
     "text": [
      "[(0, 0.40823504), (1, 0.99000907), (2, 0.8898617), (3, 0.57484317)]\n",
      "[(1, 0.99000907), (2, 0.8898617), (3, 0.57484317), (0, 0.40823504)]\n"
     ]
    },
    {
     "data": {
      "text/plain": [
       "{1: 0.99, 2: 0.89, 3: 0.575, 0: 0.408}"
      ]
     },
     "execution_count": 4,
     "metadata": {},
     "output_type": "execute_result"
    }
   ],
   "source": [
    "dict_qna = resume_volunt_activity_analysis(input_text)\n",
    "dict_qna # 가장 일치 확률이 높은 값이 맨 앞에 위치한다."
   ]
  },
  {
   "cell_type": "code",
   "execution_count": 5,
   "metadata": {},
   "outputs": [
    {
     "data": {
      "text/plain": [
       "1"
      ]
     },
     "execution_count": 5,
     "metadata": {},
     "output_type": "execute_result"
    }
   ],
   "source": [
    "# 가장 확률이 높은 값을 가져오기 >>>> 딕셔너리에서 벨류갑이 가장 큰 Key값 가쳐오기. 이것이 적합한 질문이다.\n",
    "def f1(x):\n",
    "    return dict_qna[x]\n",
    "\n",
    "key_max = max(dict_qna.keys(), key=f1)\n",
    "key_max #0 ~ 6 중 하나의 숫자가 나오면 해당 숫자에 해당하는 리스트값, 문장-봉사활동 이 가장 적합한 봉사활동이라는 것. 최대 3개까지 추천해주는 방법으로 개발 할 것"
   ]
  },
  {
   "cell_type": "code",
   "execution_count": 6,
   "metadata": {},
   "outputs": [
    {
     "data": {
      "text/plain": [
       "dict_keys([1, 2, 3, 0])"
      ]
     },
     "execution_count": 6,
     "metadata": {},
     "output_type": "execute_result"
    }
   ],
   "source": [
    "match_list = dict_qna.keys()\n",
    "match_list"
   ]
  },
  {
   "cell_type": "code",
   "execution_count": 7,
   "metadata": {},
   "outputs": [
    {
     "name": "stdout",
     "output_type": "stream",
     "text": [
      "1\n",
      "2\n",
      "3\n"
     ]
    },
    {
     "data": {
      "text/plain": [
       "[1, 2, 3]"
      ]
     },
     "execution_count": 7,
     "metadata": {},
     "output_type": "execute_result"
    }
   ],
   "source": [
    "#가장 자소서와 유사한 봉사활동 결과 도출\n",
    "\n",
    "match_top_three = []\n",
    "k = 0\n",
    "for m_item in match_list:\n",
    "    k = k + 1\n",
    "    if k <4:\n",
    "        pass\n",
    "        print(k)\n",
    "        match_top_three.append(m_item)\n",
    "    else:\n",
    "        pass\n",
    "    \n",
    "match_top_three"
   ]
  },
  {
   "cell_type": "code",
   "execution_count": null,
   "metadata": {},
   "outputs": [],
   "source": [
    "끝!"
   ]
  },
  {
   "cell_type": "code",
   "execution_count": null,
   "metadata": {},
   "outputs": [],
   "source": []
  },
  {
   "cell_type": "code",
   "execution_count": null,
   "metadata": {},
   "outputs": [],
   "source": []
  }
 ],
 "metadata": {
  "kernelspec": {
   "display_name": "Python 3",
   "language": "python",
   "name": "python3"
  },
  "language_info": {
   "codemirror_mode": {
    "name": "ipython",
    "version": 3
   },
   "file_extension": ".py",
   "mimetype": "text/x-python",
   "name": "python",
   "nbconvert_exporter": "python",
   "pygments_lexer": "ipython3",
   "version": "3.7.9"
  }
 },
 "nbformat": 4,
 "nbformat_minor": 4
}
